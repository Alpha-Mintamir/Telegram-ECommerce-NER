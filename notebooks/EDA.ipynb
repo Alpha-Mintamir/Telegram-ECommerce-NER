{
 "cells": [
  {
   "cell_type": "code",
   "execution_count": 27,
   "metadata": {},
   "outputs": [],
   "source": [
    "import pandas as pd"
   ]
  },
  {
   "cell_type": "code",
   "execution_count": 28,
   "metadata": {},
   "outputs": [],
   "source": [
    "df = pd.read_csv('../Data/telegram_data.csv')"
   ]
  },
  {
   "cell_type": "code",
   "execution_count": 29,
   "metadata": {},
   "outputs": [
    {
     "data": {
      "text/html": [
       "<div>\n",
       "<style scoped>\n",
       "    .dataframe tbody tr th:only-of-type {\n",
       "        vertical-align: middle;\n",
       "    }\n",
       "\n",
       "    .dataframe tbody tr th {\n",
       "        vertical-align: top;\n",
       "    }\n",
       "\n",
       "    .dataframe thead th {\n",
       "        text-align: right;\n",
       "    }\n",
       "</style>\n",
       "<table border=\"1\" class=\"dataframe\">\n",
       "  <thead>\n",
       "    <tr style=\"text-align: right;\">\n",
       "      <th></th>\n",
       "      <th>Channel Title</th>\n",
       "      <th>Channel Username</th>\n",
       "      <th>ID</th>\n",
       "      <th>Message</th>\n",
       "      <th>Date</th>\n",
       "      <th>Media Path</th>\n",
       "    </tr>\n",
       "  </thead>\n",
       "  <tbody>\n",
       "    <tr>\n",
       "      <th>0</th>\n",
       "      <td>SINA KIDS/ሲና ኪድስⓇ</td>\n",
       "      <td>@sinayelj</td>\n",
       "      <td>14841</td>\n",
       "      <td>NaN</td>\n",
       "      <td>2024-09-26 12:24:51+00:00</td>\n",
       "      <td>photos\\@sinayelj_14841.jpg</td>\n",
       "    </tr>\n",
       "    <tr>\n",
       "      <th>1</th>\n",
       "      <td>SINA KIDS/ሲና ኪድስⓇ</td>\n",
       "      <td>@sinayelj</td>\n",
       "      <td>14840</td>\n",
       "      <td>NaN</td>\n",
       "      <td>2024-09-26 12:24:51+00:00</td>\n",
       "      <td>photos\\@sinayelj_14840.jpg</td>\n",
       "    </tr>\n",
       "    <tr>\n",
       "      <th>2</th>\n",
       "      <td>SINA KIDS/ሲና ኪድስⓇ</td>\n",
       "      <td>@sinayelj</td>\n",
       "      <td>14839</td>\n",
       "      <td>ለኮንዶሚኒየም ለጠባብ ቤቶች ገላግሌ የሆነ ከንፁህ የሲልከን ጥሬ እቃ የተ...</td>\n",
       "      <td>2024-09-26 12:24:51+00:00</td>\n",
       "      <td>photos\\@sinayelj_14839.jpg</td>\n",
       "    </tr>\n",
       "    <tr>\n",
       "      <th>3</th>\n",
       "      <td>SINA KIDS/ሲና ኪድስⓇ</td>\n",
       "      <td>@sinayelj</td>\n",
       "      <td>14838</td>\n",
       "      <td>NaN</td>\n",
       "      <td>2024-09-26 12:24:12+00:00</td>\n",
       "      <td>photos\\@sinayelj_14838.jpg</td>\n",
       "    </tr>\n",
       "    <tr>\n",
       "      <th>4</th>\n",
       "      <td>SINA KIDS/ሲና ኪድስⓇ</td>\n",
       "      <td>@sinayelj</td>\n",
       "      <td>14837</td>\n",
       "      <td>NaN</td>\n",
       "      <td>2024-09-26 12:24:12+00:00</td>\n",
       "      <td>photos\\@sinayelj_14837.jpg</td>\n",
       "    </tr>\n",
       "    <tr>\n",
       "      <th>...</th>\n",
       "      <td>...</td>\n",
       "      <td>...</td>\n",
       "      <td>...</td>\n",
       "      <td>...</td>\n",
       "      <td>...</td>\n",
       "      <td>...</td>\n",
       "    </tr>\n",
       "    <tr>\n",
       "      <th>4618</th>\n",
       "      <td>SINA KIDS/ሲና ኪድስⓇ</td>\n",
       "      <td>@sinayelj</td>\n",
       "      <td>599</td>\n",
       "      <td>NaN</td>\n",
       "      <td>2021-04-16 18:12:10+00:00</td>\n",
       "      <td>photos\\@sinayelj_599.jpg</td>\n",
       "    </tr>\n",
       "    <tr>\n",
       "      <th>4619</th>\n",
       "      <td>SINA KIDS/ሲና ኪድስⓇ</td>\n",
       "      <td>@sinayelj</td>\n",
       "      <td>598</td>\n",
       "      <td>Baby potty\\n0905707448\\n0945097042</td>\n",
       "      <td>2021-04-16 18:12:10+00:00</td>\n",
       "      <td>photos\\@sinayelj_598.jpg</td>\n",
       "    </tr>\n",
       "    <tr>\n",
       "      <th>4620</th>\n",
       "      <td>SINA KIDS/ሲና ኪድስⓇ</td>\n",
       "      <td>@sinayelj</td>\n",
       "      <td>197</td>\n",
       "      <td>NaN</td>\n",
       "      <td>2020-11-26 18:30:52+00:00</td>\n",
       "      <td>NaN</td>\n",
       "    </tr>\n",
       "    <tr>\n",
       "      <th>4621</th>\n",
       "      <td>SINA KIDS/ሲና ኪድስⓇ</td>\n",
       "      <td>@sinayelj</td>\n",
       "      <td>182</td>\n",
       "      <td>ውድ የሲና ኪድስ ደምበኞች በድጋሚ ገብቷል \\nየመዋኛ ገንዳ ትልቅ ሳይዝ ...</td>\n",
       "      <td>2020-11-10 06:59:31+00:00</td>\n",
       "      <td>photos\\@sinayelj_182.jpg</td>\n",
       "    </tr>\n",
       "    <tr>\n",
       "      <th>4622</th>\n",
       "      <td>SINA KIDS/ሲና ኪድስⓇ</td>\n",
       "      <td>@sinayelj</td>\n",
       "      <td>1</td>\n",
       "      <td>NaN</td>\n",
       "      <td>2020-07-24 10:50:43+00:00</td>\n",
       "      <td>NaN</td>\n",
       "    </tr>\n",
       "  </tbody>\n",
       "</table>\n",
       "<p>4623 rows × 6 columns</p>\n",
       "</div>"
      ],
      "text/plain": [
       "          Channel Title Channel Username     ID  \\\n",
       "0     SINA KIDS/ሲና ኪድስⓇ        @sinayelj  14841   \n",
       "1     SINA KIDS/ሲና ኪድስⓇ        @sinayelj  14840   \n",
       "2     SINA KIDS/ሲና ኪድስⓇ        @sinayelj  14839   \n",
       "3     SINA KIDS/ሲና ኪድስⓇ        @sinayelj  14838   \n",
       "4     SINA KIDS/ሲና ኪድስⓇ        @sinayelj  14837   \n",
       "...                 ...              ...    ...   \n",
       "4618  SINA KIDS/ሲና ኪድስⓇ        @sinayelj    599   \n",
       "4619  SINA KIDS/ሲና ኪድስⓇ        @sinayelj    598   \n",
       "4620  SINA KIDS/ሲና ኪድስⓇ        @sinayelj    197   \n",
       "4621  SINA KIDS/ሲና ኪድስⓇ        @sinayelj    182   \n",
       "4622  SINA KIDS/ሲና ኪድስⓇ        @sinayelj      1   \n",
       "\n",
       "                                                Message  \\\n",
       "0                                                   NaN   \n",
       "1                                                   NaN   \n",
       "2     ለኮንዶሚኒየም ለጠባብ ቤቶች ገላግሌ የሆነ ከንፁህ የሲልከን ጥሬ እቃ የተ...   \n",
       "3                                                   NaN   \n",
       "4                                                   NaN   \n",
       "...                                                 ...   \n",
       "4618                                                NaN   \n",
       "4619                 Baby potty\\n0905707448\\n0945097042   \n",
       "4620                                                NaN   \n",
       "4621  ውድ የሲና ኪድስ ደምበኞች በድጋሚ ገብቷል \\nየመዋኛ ገንዳ ትልቅ ሳይዝ ...   \n",
       "4622                                                NaN   \n",
       "\n",
       "                           Date                  Media Path  \n",
       "0     2024-09-26 12:24:51+00:00  photos\\@sinayelj_14841.jpg  \n",
       "1     2024-09-26 12:24:51+00:00  photos\\@sinayelj_14840.jpg  \n",
       "2     2024-09-26 12:24:51+00:00  photos\\@sinayelj_14839.jpg  \n",
       "3     2024-09-26 12:24:12+00:00  photos\\@sinayelj_14838.jpg  \n",
       "4     2024-09-26 12:24:12+00:00  photos\\@sinayelj_14837.jpg  \n",
       "...                         ...                         ...  \n",
       "4618  2021-04-16 18:12:10+00:00    photos\\@sinayelj_599.jpg  \n",
       "4619  2021-04-16 18:12:10+00:00    photos\\@sinayelj_598.jpg  \n",
       "4620  2020-11-26 18:30:52+00:00                         NaN  \n",
       "4621  2020-11-10 06:59:31+00:00    photos\\@sinayelj_182.jpg  \n",
       "4622  2020-07-24 10:50:43+00:00                         NaN  \n",
       "\n",
       "[4623 rows x 6 columns]"
      ]
     },
     "execution_count": 29,
     "metadata": {},
     "output_type": "execute_result"
    }
   ],
   "source": [
    "df"
   ]
  },
  {
   "cell_type": "code",
   "execution_count": 31,
   "metadata": {},
   "outputs": [],
   "source": [
    "df_message = df['Message']"
   ]
  },
  {
   "cell_type": "code",
   "execution_count": 32,
   "metadata": {},
   "outputs": [
    {
     "data": {
      "text/plain": [
       "0                                                     NaN\n",
       "1                                                     NaN\n",
       "2       ለኮንዶሚኒየም ለጠባብ ቤቶች ገላግሌ የሆነ ከንፁህ የሲልከን ጥሬ እቃ የተ...\n",
       "3                                                     NaN\n",
       "4                                                     NaN\n",
       "                              ...                        \n",
       "4618                                                  NaN\n",
       "4619                   Baby potty\\n0905707448\\n0945097042\n",
       "4620                                                  NaN\n",
       "4621    ውድ የሲና ኪድስ ደምበኞች በድጋሚ ገብቷል \\nየመዋኛ ገንዳ ትልቅ ሳይዝ ...\n",
       "4622                                                  NaN\n",
       "Name: Message, Length: 4623, dtype: object"
      ]
     },
     "execution_count": 32,
     "metadata": {},
     "output_type": "execute_result"
    }
   ],
   "source": [
    "df_message"
   ]
  },
  {
   "cell_type": "code",
   "execution_count": 33,
   "metadata": {},
   "outputs": [
    {
     "data": {
      "text/plain": [
       "(4623,)"
      ]
     },
     "execution_count": 33,
     "metadata": {},
     "output_type": "execute_result"
    }
   ],
   "source": [
    "df_message.shape"
   ]
  },
  {
   "cell_type": "code",
   "execution_count": 35,
   "metadata": {},
   "outputs": [
    {
     "data": {
      "text/plain": [
       "3268"
      ]
     },
     "execution_count": 35,
     "metadata": {},
     "output_type": "execute_result"
    }
   ],
   "source": [
    "df_message.isnull().sum()"
   ]
  },
  {
   "cell_type": "code",
   "execution_count": 36,
   "metadata": {},
   "outputs": [],
   "source": [
    "df_message.dropna(inplace=True)"
   ]
  },
  {
   "cell_type": "code",
   "execution_count": 37,
   "metadata": {},
   "outputs": [
    {
     "data": {
      "text/plain": [
       "2     ለኮንዶሚኒየም ለጠባብ ቤቶች ገላግሌ የሆነ ከንፁህ የሲልከን ጥሬ እቃ የተ...\n",
       "6     Baby romper   ከላዩ ፈር ውስጡ ኮተን የሆነ\\n\\n2000 birr\\...\n",
       "9     Chicco 5 in 1 mama bag\\nኦሪጅናል ማቴሪያል\\nበሳይዙ ትልቅ\\...\n",
       "16    aiebao HIP SEAT CARRIER\\nምቹ ጠንካራ የልጆች ማዘያ\\nበተለ...\n",
       "26    Kids mat  \\n\\n💥4100 ብር\\n\\nSize 1.80*2m\\n\\nfree...\n",
       "Name: Message, dtype: object"
      ]
     },
     "execution_count": 37,
     "metadata": {},
     "output_type": "execute_result"
    }
   ],
   "source": [
    "df_message.head()"
   ]
  },
  {
   "cell_type": "code",
   "execution_count": 38,
   "metadata": {},
   "outputs": [
    {
     "data": {
      "text/plain": [
       "(1355,)"
      ]
     },
     "execution_count": 38,
     "metadata": {},
     "output_type": "execute_result"
    }
   ],
   "source": [
    "df_message.shape"
   ]
  },
  {
   "cell_type": "code",
   "execution_count": 39,
   "metadata": {},
   "outputs": [],
   "source": [
    "df_message.to_csv('../Data/cleaned.csv', index=False)"
   ]
  }
 ],
 "metadata": {
  "kernelspec": {
   "display_name": "venv",
   "language": "python",
   "name": "python3"
  },
  "language_info": {
   "codemirror_mode": {
    "name": "ipython",
    "version": 3
   },
   "file_extension": ".py",
   "mimetype": "text/x-python",
   "name": "python",
   "nbconvert_exporter": "python",
   "pygments_lexer": "ipython3",
   "version": "3.8.0"
  }
 },
 "nbformat": 4,
 "nbformat_minor": 2
}
