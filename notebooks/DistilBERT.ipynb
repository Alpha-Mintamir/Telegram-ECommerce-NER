{
 "cells": [
  {
   "cell_type": "code",
   "execution_count": null,
   "metadata": {},
   "outputs": [],
   "source": [
    "!pip install transformers datasets\n",
    "!pip install torch torchvision torchaudio --extra-index-url https://download.pytorch.org/whl/cu117\n"
   ]
  },
  {
   "cell_type": "code",
   "execution_count": null,
   "metadata": {},
   "outputs": [],
   "source": [
    "import pandas as pd\n",
    "from datasets import load_dataset\n",
    "\n",
    "# Load the CoNLL format dataset\n",
    "dataset = load_dataset('../Data/first_labeled_ner_data.conll', split='train')\n"
   ]
  },
  {
   "cell_type": "code",
   "execution_count": null,
   "metadata": {},
   "outputs": [],
   "source": [
    "from transformers import AutoTokenizer\n",
    "\n",
    "tokenizer = AutoTokenizer.from_pretrained(\"xlm-roberta-base\")\n",
    "\n",
    "def tokenize_and_align_labels(examples):\n",
    "    tokenized_inputs = tokenizer(examples['tokens'], truncation=True, padding=True, is_split_into_words=True)\n",
    "    labels = []\n",
    "    for i, label in enumerate(examples['ner_tags']):\n",
    "        word_ids = tokenized_inputs.word_ids(batch_index=i)\n",
    "        label_ids = [-100] * len(tokenized_inputs['input_ids'])  # Initialize with -100 for ignored tokens\n",
    "        for j, label_id in enumerate(label):\n",
    "            if word_ids[j] is not None:  # Only set labels for real tokens\n",
    "                label_ids[word_ids[j]] = label_id\n",
    "        labels.append(label_ids)\n",
    "    tokenized_inputs['labels'] = labels\n",
    "    return tokenized_inputs\n",
    "\n",
    "tokenized_datasets = dataset.map(tokenize_and_align_labels, batched=True)\n"
   ]
  },
  {
   "cell_type": "code",
   "execution_count": null,
   "metadata": {},
   "outputs": [],
   "source": [
    "from transformers import TrainingArguments\n",
    "\n",
    "training_args = TrainingArguments(\n",
    "    output_dir=\"./results\",\n",
    "    evaluation_strategy=\"epoch\",\n",
    "    learning_rate=2e-5,\n",
    "    per_device_train_batch_size=16,\n",
    "    num_train_epochs=3,\n",
    ")\n"
   ]
  },
  {
   "cell_type": "code",
   "execution_count": null,
   "metadata": {},
   "outputs": [],
   "source": [
    "from transformers import Trainer, AutoModelForTokenClassification\n",
    "\n",
    "# Fine-tune each model in a loop\n",
    "models = [\"xlm-roberta-base\", \"distilbert-base-multilingual-cased\", \"bert-base-multilingual-cased\"]\n",
    "\n",
    "for model_name in models:\n",
    "    model = AutoModelForTokenClassification.from_pretrained(model_name, num_labels=len(label_list))\n",
    "    trainer = Trainer(\n",
    "        model=model,\n",
    "        args=training_args,\n",
    "        train_dataset=tokenized_datasets,\n",
    "        eval_dataset=validation_dataset,\n",
    "    )\n",
    "    trainer.train()\n",
    "    trainer.save_model(f\"./results/{model_name}\")\n"
   ]
  },
  {
   "cell_type": "code",
   "execution_count": null,
   "metadata": {},
   "outputs": [],
   "source": [
    "# Evaluation\n",
    "results = trainer.evaluate()\n",
    "print(f\"Evaluation results for {model_name}: {results}\")\n"
   ]
  },
  {
   "cell_type": "code",
   "execution_count": null,
   "metadata": {},
   "outputs": [],
   "source": [
    "import pandas as pd\n",
    "\n",
    "results_list = []\n",
    "\n",
    "for model_name in models:\n",
    "    # Load evaluation results and append to list\n",
    "    eval_results = # Load the results for the model\n",
    "    results_list.append({\n",
    "        'Model': model_name,\n",
    "        'Accuracy': eval_results['eval_accuracy'],\n",
    "        'Precision': eval_results['eval_precision'],\n",
    "        'Recall': eval_results['eval_recall'],\n",
    "        'F1-Score': eval_results['eval_f1'],\n",
    "    })\n",
    "\n",
    "comparison_df = pd.DataFrame(results_list)\n",
    "print(comparison_df)\n"
   ]
  }
 ],
 "metadata": {
  "language_info": {
   "name": "python"
  }
 },
 "nbformat": 4,
 "nbformat_minor": 2
}
