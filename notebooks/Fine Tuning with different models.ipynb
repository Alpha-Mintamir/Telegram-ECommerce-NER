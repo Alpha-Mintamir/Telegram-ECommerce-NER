{
 "cells": [
  {
   "cell_type": "code",
   "execution_count": 1,
   "metadata": {},
   "outputs": [],
   "source": [
    "!pip install pyarrow==10.0.1 datasets==2.4.0 seqeval\n"
   ]
  },
  {
   "cell_type": "markdown",
   "metadata": {},
   "source": [
    "## Importing Libraries"
   ]
  },
  {
   "cell_type": "code",
   "execution_count": 2,
   "metadata": {},
   "outputs": [],
   "source": [
    "import pandas as pd\n",
    "from sklearn.model_selection import train_test_split\n",
    "from transformers import XLMRobertaTokenizerFast\n",
    "from datasets import Dataset, Features, Sequence, Value\n",
    "from transformers import TrainingArguments\n",
    "from transformers import XLMRobertaForTokenClassification, AutoModelForTokenClassification, AutoTokenizer, Trainer\n"
   ]
  },
  {
   "cell_type": "markdown",
   "metadata": {},
   "source": [
    "## Loading File from Task-2"
   ]
  },
  {
   "cell_type": "code",
   "execution_count": 3,
   "metadata": {},
   "outputs": [
    {
     "ename": "ModuleNotFoundError",
     "evalue": "No module named 'datasets'",
     "output_type": "error",
     "traceback": [
      "\u001b[1;31m---------------------------------------------------------------------------\u001b[0m",
      "\u001b[1;31mModuleNotFoundError\u001b[0m                       Traceback (most recent call last)",
      "Cell \u001b[1;32mIn[3], line 1\u001b[0m\n\u001b[1;32m----> 1\u001b[0m \u001b[38;5;28;01mfrom\u001b[39;00m \u001b[38;5;21;01mdatasets\u001b[39;00m \u001b[38;5;28;01mimport\u001b[39;00m load_dataset\n\u001b[0;32m      3\u001b[0m dataset \u001b[38;5;241m=\u001b[39m load_dataset(\u001b[38;5;124m\"\u001b[39m\u001b[38;5;124m../Data/first_labeled_ner_data.conll\u001b[39m\u001b[38;5;124m\"\u001b[39m, \u001b[38;5;124m\"\u001b[39m\u001b[38;5;124mbn\u001b[39m\u001b[38;5;124m\"\u001b[39m)\n",
      "\u001b[1;31mModuleNotFoundError\u001b[0m: No module named 'datasets'"
     ]
    }
   ],
   "source": [
    "from google.colab import files\n",
    "uploaded = files.upload()\n"
   ]
  },
  {
   "cell_type": "code",
   "execution_count": null,
   "metadata": {},
   "outputs": [],
   "source": [
    "# Function to load CoNLL formatted data\n",
    "def load_conll(file_path):\n",
    "    sentences = []\n",
    "    labels = []\n",
    "    with open(file_path, 'r', encoding='utf-8') as f:\n",
    "        sentence = []\n",
    "        label = []\n",
    "        for line in f:\n",
    "            if line.strip():  # Non-empty line\n",
    "                token, label_item = line.split()\n",
    "                sentence.append(token)\n",
    "                label.append(label_item)\n",
    "            else:  # Empty line indicates end of a sentence\n",
    "                sentences.append(sentence)\n",
    "                labels.append(label)\n",
    "                sentence = []\n",
    "                label = []\n",
    "    return pd.DataFrame({'tokens': sentences, 'labels': labels})\n",
    "\n",
    "# Load your CoNLL file\n",
    "df = load_conll('first.conll')\n"
   ]
  },
  {
   "cell_type": "code",
   "execution_count": null,
   "metadata": {},
   "outputs": [],
   "source": [
    "df.head()"
   ]
  },
  {
   "cell_type": "markdown",
   "metadata": {},
   "source": [
    "## Defining Unique Labels"
   ]
  },
  {
   "cell_type": "code",
   "execution_count": null,
   "metadata": {},
   "outputs": [],
   "source": [
    "unique_labels = set(label for sublist in df['labels'] for label in sublist)\n",
    "label2id = {label: i for i, label in enumerate(unique_labels)}\n",
    "id2label = {i: label for label, i in label2id.items()}\n"
   ]
  },
  {
   "cell_type": "code",
   "execution_count": null,
   "metadata": {},
   "outputs": [],
   "source": [
    "df['labels'] = df['labels'].apply(lambda x: [label2id[label] for label in x])\n"
   ]
  },
  {
   "cell_type": "markdown",
   "metadata": {},
   "source": [
    "## Convert DataFrame to Hugging Face Dataset"
   ]
  },
  {
   "cell_type": "code",
   "execution_count": null,
   "metadata": {},
   "outputs": [],
   "source": [
    "# Define the features with the correct data types\n",
    "features = Features({\n",
    "    'tokens': Sequence(Value('string')),  # List of strings for tokens\n",
    "    'labels': Sequence(Value('int32'))    # List of integers for labels\n",
    "})\n",
    "\n",
    "# Convert DataFrame to Hugging Face Dataset with specified features\n",
    "dataset = Dataset.from_pandas(df[['tokens', 'labels']], features=features)"
   ]
  },
  {
   "cell_type": "markdown",
   "metadata": {},
   "source": [
    "## Tokenization and Label Allignment"
   ]
  },
  {
   "cell_type": "code",
   "execution_count": null,
   "metadata": {},
   "outputs": [],
   "source": [
    "# For XLM-Roberta\n",
    "tokenizer = XLMRobertaTokenizerFast.from_pretrained(\n",
    "    \"xlm-roberta-base\",\n",
    "    clean_up_tokenization_spaces=True\n",
    "    )"
   ]
  },
  {
   "cell_type": "code",
   "execution_count": null,
   "metadata": {},
   "outputs": [],
   "source": [
    "# For DistilBERT\n",
    "tokenizer_distilbert = AutoTokenizer.from_pretrained(\n",
    "     'distilbert-base-multilingual-cased',\n",
    "     clean_up_tokenization_spaces=True\n",
    "     )"
   ]
  },
  {
   "cell_type": "code",
   "execution_count": null,
   "metadata": {},
   "outputs": [],
   "source": [
    "# For mBERT\n",
    "tokenizer_mbert = AutoTokenizer.from_pretrained(\n",
    "     'bert-base-multilingual-cased',\n",
    "     clean_up_tokenization_spaces=True\n",
    "     )"
   ]
  },
  {
   "cell_type": "markdown",
   "metadata": {},
   "source": [
    "## Tokenization Function"
   ]
  },
  {
   "cell_type": "code",
   "execution_count": null,
   "metadata": {},
   "outputs": [],
   "source": [
    "# Tokenization and alignment function\n",
    "def tokenize_and_align_labels(examples):\n",
    "  tokenized_inputs = tokenizer(examples['tokens'], truncation=True, is_split_into_words=True, padding=\"max_length\", max_length=128)  # Set max_length as needed\n",
    "  labels = []\n",
    "\n",
    "  for i in range(len(examples['tokens'])):\n",
    "      label = examples['labels'][i]\n",
    "      tokenized_label = [-100] * len(tokenized_inputs['input_ids'][i])  # Default label for all tokens\n",
    "\n",
    "      # Aligning labels with tokens\n",
    "      for j, token in enumerate(tokenized_inputs['input_ids'][i]):\n",
    "          # Check if this token corresponds to the original word\n",
    "          original_word_idx = tokenizer.decode(token).strip()\n",
    "          if original_word_idx in examples['tokens'][i]:\n",
    "              token_index = examples['tokens'][i].index(original_word_idx)\n",
    "              tokenized_label[j] = label[token_index]  # Use the corresponding label\n",
    "\n",
    "      labels.append(tokenized_label)\n",
    "\n",
    "  tokenized_inputs['labels'] = labels\n",
    "  return tokenized_inputs"
   ]
  },
  {
   "cell_type": "code",
   "execution_count": null,
   "metadata": {},
   "outputs": [],
   "source": [
    "# Tokenize the dataset\n",
    "tokenized_dataset = dataset.map(tokenize_and_align_labels, batched=True)"
   ]
  },
  {
   "cell_type": "code",
   "execution_count": null,
   "metadata": {},
   "outputs": [],
   "source": [
    "tokenized_dataset"
   ]
  },
  {
   "cell_type": "markdown",
   "metadata": {},
   "source": [
    "## Split the dataset into train and test data"
   ]
  },
  {
   "cell_type": "code",
   "execution_count": null,
   "metadata": {},
   "outputs": [],
   "source": [
    "# Split into train and validation datasets\n",
    "train_test_split = tokenized_dataset.train_test_split(test_size=0.1)  # 90% train, 10% validation"
   ]
  },
  {
   "cell_type": "code",
   "execution_count": null,
   "metadata": {},
   "outputs": [],
   "source": [
    "# Print the lengths of input_ids, attention_mask, and labels for verification\n",
    "print(f\"Number of samples: {len(tokenized_dataset)}\")\n",
    "print(f\"Input IDs length: {[len(x) for x in tokenized_dataset['input_ids']]}\")\n",
    "print(f\"Attention Mask length: {[len(x) for x in tokenized_dataset['attention_mask']]}\")\n",
    "print(f\"Labels length: {[len(x) for x in tokenized_dataset['labels']]}\")"
   ]
  },
  {
   "cell_type": "code",
   "execution_count": null,
   "metadata": {},
   "outputs": [],
   "source": [
    "# Check the train and test split\n",
    "train_test_split"
   ]
  },
  {
   "cell_type": "markdown",
   "metadata": {},
   "source": [
    "## Setting Up Training Arguments "
   ]
  },
  {
   "cell_type": "code",
   "execution_count": null,
   "metadata": {},
   "outputs": [],
   "source": [
    "# Set up training arguments with adjustments\n",
    "training_args = TrainingArguments(\n",
    "    output_dir='./results',\n",
    "    eval_strategy=\"epoch\",     # Evaluates at the end of each epoch\n",
    "    learning_rate=2e-5,\n",
    "    per_device_train_batch_size=16,  # Batch size for training\n",
    "    per_device_eval_batch_size=16,   # Batch size for evaluation\n",
    "    num_train_epochs=7,\n",
    "    weight_decay=0.01,               # Strength of weight decay\n",
    "    max_grad_norm=1.0,  # Gradient clipping\n",
    "    logging_dir='./logs',            # Directory for storing logs\n",
    "    logging_strategy=\"steps\",        # Log at regular intervals\n",
    "    logging_steps=50,                # Log every 50 steps\n",
    "    save_strategy=\"epoch\",           # Save model at the end of each epoch\n",
    "    report_to=\"none\",                # Only show logs in the output (no TensorBoard)\n",
    ")\n"
   ]
  },
  {
   "cell_type": "markdown",
   "metadata": {},
   "source": [
    "## Fine Tuning the Model with different pre-trained models"
   ]
  },
  {
   "cell_type": "code",
   "execution_count": null,
   "metadata": {},
   "outputs": [],
   "source": [
    "# Initialize each of the models\n",
    "# For XLM-Roberta\n",
    "model_xlmr = XLMRobertaForTokenClassification.from_pretrained(\"xlm-roberta-base\", num_labels=len(unique_labels)) # Ensure unique_labels is defined\n",
    "\n",
    "# For DistilBERT\n",
    "model_distilbert = AutoModelForTokenClassification.from_pretrained('distilbert-base-multilingual-cased', num_labels=len(unique_labels))\n",
    "\n",
    "# For mBERT\n",
    "model_distilbert = AutoModelForTokenClassification.from_pretrained('bert-base-multilingual-cased', num_labels=len(unique_labels))\n",
    "\n"
   ]
  },
  {
   "cell_type": "markdown",
   "metadata": {},
   "source": [
    "## Setting Up Trainer for Each Model"
   ]
  },
  {
   "cell_type": "code",
   "execution_count": null,
   "metadata": {},
   "outputs": [],
   "source": [
    "trainer_xlmr = Trainer(\n",
    "    model=model_xlmr,\n",
    "    args=training_args,\n",
    "    train_dataset=train_test_split['train'],\n",
    "    eval_dataset=train_test_split['test'],  # Changed from validation to test based on split\n",
    ")\n",
    "trainer_distilbert = Trainer(\n",
    "    model=model_distilbert,\n",
    "    args=training_args,\n",
    "    train_dataset=train_test_split['train'],\n",
    "    eval_dataset=train_test_split['test'],  # Changed from validation to test based on split\n",
    ")\n",
    "trainer_mbert = Trainer(\n",
    "    model=model_distilbert,\n",
    "    args=training_args,\n",
    "    train_dataset=train_test_split['train'],\n",
    "    eval_dataset=train_test_split['test'],  # Changed from validation to test based on split\n",
    ")"
   ]
  },
  {
   "cell_type": "markdown",
   "metadata": {},
   "source": [
    "## Evaluating and Training each model"
   ]
  },
  {
   "cell_type": "code",
   "execution_count": null,
   "metadata": {},
   "outputs": [],
   "source": [
    "# Fine-tune XLM-Roberta\n",
    "trainer_xlmr.train()\n",
    "trainer_xlmr.evaluate()\n",
    "\n",
    "# Fine-tune DistilBERT\n",
    "trainer_distilbert.train()\n",
    "trainer_distilbert.evaluate()\n",
    "\n",
    "# Fine-tune mBERT\n",
    "trainer_mbert.train()\n",
    "trainer_mbert.evaluate()\n"
   ]
  },
  {
   "cell_type": "markdown",
   "metadata": {},
   "source": [
    "## Saving the trained model"
   ]
  },
  {
   "cell_type": "code",
   "execution_count": null,
   "metadata": {},
   "outputs": [],
   "source": [
    "# Save the model\n",
    "model.save_pretrained(\"./fine_tuned_ner_model\")\n",
    "tokenizer.save_pretrained(\"./fine_tuned_ner_model\")"
   ]
  },
  {
   "cell_type": "markdown",
   "metadata": {},
   "source": [
    "## Evaluations"
   ]
  },
  {
   "cell_type": "code",
   "execution_count": null,
   "metadata": {},
   "outputs": [],
   "source": [
    "eval_results = trainer.evaluate()\n",
    "print(eval_results)"
   ]
  },
  {
   "cell_type": "code",
   "execution_count": null,
   "metadata": {},
   "outputs": [],
   "source": [
    "from datasets import Dataset\n",
    "from transformers import XLMRobertaTokenizer, XLMRobertaForTokenClassification, Trainer, TrainingArguments\n",
    "import pandas as pd\n",
    "\n",
    "# Load your labeled data (replace with your actual data loading method)\n",
    "\n",
    "\n",
    "# Load the tokenizer\n",
    "tokenizer = XLMRobertaTokenizer.from_pretrained(\"xlm-roberta-base\")\n",
    "\n",
    "# Tokenization and alignment function\n",
    "def tokenize_and_align_labels(examples):\n",
    "    tokenized_inputs = tokenizer(examples['tokens'], truncation=True, is_split_into_words=True, padding=\"max_length\", max_length=128)  # Set max_length as needed\n",
    "    labels = []\n",
    "\n",
    "    for i in range(len(examples['tokens'])):\n",
    "        label = examples['labels'][i]\n",
    "        tokenized_label = [-100] * len(tokenized_inputs['input_ids'][i])  # Default label for all tokens\n",
    "\n",
    "        # Aligning labels with tokens\n",
    "        for j, token in enumerate(tokenized_inputs['input_ids'][i]):\n",
    "            # Check if this token corresponds to the original word\n",
    "            original_word_idx = tokenizer.decode(token).strip()\n",
    "            if original_word_idx in examples['tokens'][i]:\n",
    "                token_index = examples['tokens'][i].index(original_word_idx)\n",
    "                tokenized_label[j] = label[token_index]  # Use the corresponding label\n",
    "\n",
    "        labels.append(tokenized_label)\n",
    "\n",
    "    tokenized_inputs['labels'] = labels\n",
    "    return tokenized_inputs\n",
    "\n",
    "# Tokenize the dataset\n",
    "tokenized_dataset = dataset.map(tokenize_and_align_labels, batched=True)\n",
    "\n",
    "# Split into train and validation datasets\n",
    "train_test_split = tokenized_dataset.train_test_split(test_size=0.1)  # 90% train, 10% validation\n",
    "\n",
    "# Print the lengths of input_ids, attention_mask, and labels for verification\n",
    "print(f\"Number of samples: {len(tokenized_dataset)}\")\n",
    "print(f\"Input IDs length: {[len(x) for x in tokenized_dataset['input_ids']]}\")\n",
    "print(f\"Attention Mask length: {[len(x) for x in tokenized_dataset['attention_mask']]}\")\n",
    "print(f\"Labels length: {[len(x) for x in tokenized_dataset['labels']]}\")\n",
    "\n",
    "# Set up training arguments with adjustments\n",
    "training_args = TrainingArguments(\n",
    "    output_dir='./results',\n",
    "    evaluation_strategy='epoch',\n",
    "    learning_rate=1e-5,  # Reduced learning rate\n",
    "    per_device_train_batch_size=4,  # Reduced batch size\n",
    "    per_device_eval_batch_size=4,\n",
    "    num_train_epochs=3,\n",
    "    weight_decay=0.01,\n",
    "    max_grad_norm=1.0,  # Gradient clipping\n",
    ")\n",
    "\n",
    "\n",
    "\n",
    "# Train the model\n",
    "trainer.train()\n",
    "\n",
    "\n"
   ]
  }
 ],
 "metadata": {
  "kernelspec": {
   "display_name": "week5",
   "language": "python",
   "name": "python3"
  },
  "language_info": {
   "codemirror_mode": {
    "name": "ipython",
    "version": 3
   },
   "file_extension": ".py",
   "mimetype": "text/x-python",
   "name": "python",
   "nbconvert_exporter": "python",
   "pygments_lexer": "ipython3",
   "version": "3.8.0"
  }
 },
 "nbformat": 4,
 "nbformat_minor": 2
}
